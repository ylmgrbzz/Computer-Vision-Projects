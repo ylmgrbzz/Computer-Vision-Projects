{
 "cells": [
  {
   "cell_type": "code",
   "execution_count": 1,
   "id": "d3e2d59d",
   "metadata": {},
   "outputs": [],
   "source": [
    "import cv2\n",
    "import sys\n"
   ]
  },
  {
   "cell_type": "code",
   "execution_count": 2,
   "id": "f22e8cf4",
   "metadata": {},
   "outputs": [],
   "source": [
    "fotograf = cv2.imread(\"indir.jfif\")\n",
    "gray = cv2.cvtColor(fotograf, cv2.COLOR_BGR2GRAY) "
   ]
  },
  {
   "cell_type": "code",
   "execution_count": 12,
   "id": "b1838f96",
   "metadata": {},
   "outputs": [],
   "source": [
    "yuz_belirleme = cv2.CascadeClassifier(cv2.data.haarcascades+'haarcascade_frontalface_alt.xml')\n",
    "goz_belirleme = cv2.CascadeClassifier(cv2.data.haarcascades+'haarcascade_eye.xml')\n"
   ]
  },
  {
   "cell_type": "code",
   "execution_count": 13,
   "id": "982a41fa",
   "metadata": {},
   "outputs": [],
   "source": [
    "yuz = yuz_belirleme.detectMultiScale(\n",
    "    gray, \n",
    "    scaleFactor=1.075, \n",
    "    minNeighbors=5, \n",
    "    minSize=(15, 15))"
   ]
  },
  {
   "cell_type": "code",
   "execution_count": 14,
   "id": "ee2efeca",
   "metadata": {},
   "outputs": [],
   "source": [
    "for (x,y,w,h) in yuz: \n",
    "    cv2.rectangle(\n",
    "    fotograf, \n",
    "    (x,y), \n",
    "    (x+w,y+h), \n",
    "    (255,0,0),\n",
    "    2) \n",
    "    roi_gray = gray[y:y+h, x:x+w] \n",
    "    roi_color = fotograf[y:y+h, x:x+w] "
   ]
  },
  {
   "cell_type": "code",
   "execution_count": 19,
   "id": "3d868af0",
   "metadata": {},
   "outputs": [],
   "source": [
    "    eyes = goz_belirleme.detectMultiScale(roi_gray) \n"
   ]
  },
  {
   "cell_type": "code",
   "execution_count": 20,
   "id": "8fa7aef3",
   "metadata": {},
   "outputs": [],
   "source": [
    "for (ex,ey,ew,eh) in eyes: \n",
    "        cv2.rectangle(\n",
    "        roi_color, \n",
    "        (ex,ey), \n",
    "        (ex+ew,ey+eh), \n",
    "        (0,255,0), \n",
    "        1)"
   ]
  },
  {
   "cell_type": "code",
   "execution_count": 21,
   "id": "c4b02301",
   "metadata": {},
   "outputs": [
    {
     "name": "stdout",
     "output_type": "stream",
     "text": [
      "[INFO] 1 Yüz Bulundu! Bulunan Yüz Sayısı = \n"
     ]
    }
   ],
   "source": [
    "print(\"[INFO] {0} Yüz Bulundu! Bulunan Yüz Sayısı = \".format(len(yuz)))\n"
   ]
  },
  {
   "cell_type": "code",
   "execution_count": 22,
   "id": "f9695aa6",
   "metadata": {},
   "outputs": [],
   "source": [
    "for (x, y, w, h) in yuz:\n",
    "    cv2.rectangle(\n",
    "    fotograf,\n",
    "    (x, y), \n",
    "    (x + w, y + h), \n",
    "    (0,0,255), \n",
    "    2)\n"
   ]
  },
  {
   "cell_type": "code",
   "execution_count": 24,
   "id": "027b326d",
   "metadata": {},
   "outputs": [],
   "source": [
    "durum = cv2.imwrite('foto2.jpg', fotograf)"
   ]
  },
  {
   "cell_type": "code",
   "execution_count": 25,
   "id": "f464a764",
   "metadata": {},
   "outputs": [
    {
     "name": "stdout",
     "output_type": "stream",
     "text": [
      "[ Bilgi Mesajı… ] Görsel kaydedildi:  True\n"
     ]
    }
   ],
   "source": [
    "print(\"[ Bilgi Mesajı… ] Görsel kaydedildi: \", durum)\n"
   ]
  },
  {
   "cell_type": "code",
   "execution_count": null,
   "id": "f0299de4",
   "metadata": {},
   "outputs": [],
   "source": []
  }
 ],
 "metadata": {
  "kernelspec": {
   "display_name": "Python 3 (ipykernel)",
   "language": "python",
   "name": "python3"
  },
  "language_info": {
   "codemirror_mode": {
    "name": "ipython",
    "version": 3
   },
   "file_extension": ".py",
   "mimetype": "text/x-python",
   "name": "python",
   "nbconvert_exporter": "python",
   "pygments_lexer": "ipython3",
   "version": "3.10.7"
  }
 },
 "nbformat": 4,
 "nbformat_minor": 5
}
